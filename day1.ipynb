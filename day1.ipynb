{
 "cells": [
  {
   "cell_type": "markdown",
   "id": "5eee3cdf-ec44-4a90-96da-7035821748ce",
   "metadata": {},
   "source": [
    "# Print Function"
   ]
  },
  {
   "cell_type": "code",
   "execution_count": 4,
   "id": "d1e143e4-c6f1-4242-8a98-5592e7625378",
   "metadata": {},
   "outputs": [
    {
     "name": "stdout",
     "output_type": "stream",
     "text": [
      "Hello World\n"
     ]
    }
   ],
   "source": [
    "print(\"Hello World\")"
   ]
  },
  {
   "cell_type": "code",
   "execution_count": 5,
   "id": "ed079c4e-2af5-4b5e-8c92-69c9e3dacd10",
   "metadata": {},
   "outputs": [
    {
     "name": "stdout",
     "output_type": "stream",
     "text": [
      "Hello World\n"
     ]
    }
   ],
   "source": [
    "print('Hello World')"
   ]
  },
  {
   "cell_type": "code",
   "execution_count": 6,
   "id": "48e6c29c-7a09-493a-9b73-4bd2ee7307e6",
   "metadata": {},
   "outputs": [
    {
     "name": "stdout",
     "output_type": "stream",
     "text": [
      "my age is: 19\n"
     ]
    }
   ],
   "source": [
    "age=19\n",
    "print(\"my age is:\",age)"
   ]
  },
  {
   "cell_type": "code",
   "execution_count": 7,
   "id": "23266f02-ee62-4ac1-b77a-609b212bd29e",
   "metadata": {},
   "outputs": [
    {
     "name": "stdout",
     "output_type": "stream",
     "text": [
      "my age is {age}\n"
     ]
    }
   ],
   "source": [
    "print(\"my age is {age}\")"
   ]
  },
  {
   "cell_type": "code",
   "execution_count": 10,
   "id": "c873f82b-d61d-4fe5-bcdc-c4b63184b19d",
   "metadata": {},
   "outputs": [
    {
     "name": "stdout",
     "output_type": "stream",
     "text": [
      "my age is 19\n"
     ]
    }
   ],
   "source": [
    "#formatted string literals, f-strings are string literals that have an f before the opening quotation mark.\n",
    "print(f\"my age is {age}\")"
   ]
  },
  {
   "cell_type": "code",
   "execution_count": 4,
   "id": "c25ab842-a36a-4689-8aa8-06d2ee060be0",
   "metadata": {},
   "outputs": [
    {
     "name": "stdout",
     "output_type": "stream",
     "text": [
      "My name is 19 and my age is Rahima\n"
     ]
    }
   ],
   "source": [
    "name=\"Rahima\"\n",
    "age=19\n",
    "print(\"My name is {} and my age is {}\".format(age,name))"
   ]
  },
  {
   "cell_type": "code",
   "execution_count": 5,
   "id": "cbf36460-4c68-4c63-8ebe-deeea6076006",
   "metadata": {},
   "outputs": [
    {
     "name": "stdout",
     "output_type": "stream",
     "text": [
      "My name is Rahima and my age is 19\n"
     ]
    }
   ],
   "source": [
    "name=\"Rahima\"\n",
    "age=19\n",
    "print(\"My name is {} and my age is {}\".format(name,age))"
   ]
  },
  {
   "cell_type": "code",
   "execution_count": 8,
   "id": "c2d08429-f1ae-4b18-b680-8ef26c7d05cf",
   "metadata": {},
   "outputs": [
    {
     "name": "stdout",
     "output_type": "stream",
     "text": [
      "My name is Rahima and my age is 19\n"
     ]
    }
   ],
   "source": [
    "#Place Holder\n",
    "print(\"My name is {Firstname} and my age is {Firstage}\".format(Firstname=name,Firstage=age))"
   ]
  },
  {
   "cell_type": "code",
   "execution_count": 7,
   "id": "3571f1fa-04d2-4ac7-a2f3-34b832d07292",
   "metadata": {},
   "outputs": [
    {
     "name": "stdout",
     "output_type": "stream",
     "text": [
      "My name is Rahima and my age is 19\n"
     ]
    }
   ],
   "source": [
    "print(\"My name is {Firstname} and my age is {Firstage}\".format(Firstage=age,Firstname=name))"
   ]
  },
  {
   "cell_type": "markdown",
   "id": "346a00b8-6164-4eb3-8035-2bdb7e75725e",
   "metadata": {},
   "source": [
    "## Practice"
   ]
  },
  {
   "cell_type": "code",
   "execution_count": 9,
   "id": "dfb9918f-74a4-41ec-9a17-43c770cd8587",
   "metadata": {},
   "outputs": [
    {
     "name": "stdout",
     "output_type": "stream",
     "text": [
      "My age is 19 I completed my degree of BscIT with the name of Rahima Qazi\n"
     ]
    }
   ],
   "source": [
    "# F String\n",
    "name=\"Rahima Qazi\"\n",
    "age=19\n",
    "degree=\"BscIT\"\n",
    "\n",
    "print(f\"My age is {age} I completed my degree of {degree} with the name of {name}\")"
   ]
  },
  {
   "cell_type": "code",
   "execution_count": 10,
   "id": "7ee3bf71-d0c4-4fbd-a53c-038fe3e6ae8e",
   "metadata": {},
   "outputs": [
    {
     "name": "stdout",
     "output_type": "stream",
     "text": [
      "My age is 19 I completed my degree of BscIT with the name of Rahima Qazi\n"
     ]
    }
   ],
   "source": [
    "# Format Type\n",
    "name=\"Rahima Qazi\"\n",
    "age=19\n",
    "degree=\"BscIT\"\n",
    "\n",
    "print(\"My age is {} I completed my degree of {} with the name of {}\".format(age,degree,name))\n"
   ]
  },
  {
   "cell_type": "markdown",
   "id": "4e104836-be9c-4812-8caa-79de3ec58aa8",
   "metadata": {},
   "source": [
    "# Control Flow"
   ]
  },
  {
   "cell_type": "markdown",
   "id": "1240bf95-c731-4e46-b241-a5580613898d",
   "metadata": {},
   "source": [
    "## Decision Making Statements"
   ]
  },
  {
   "cell_type": "markdown",
   "id": "8b8ae890-7ea5-457b-a47b-b9510b1ab73e",
   "metadata": {},
   "source": [
    "### If Statement"
   ]
  },
  {
   "cell_type": "code",
   "execution_count": 11,
   "id": "8e2de343-5710-4f3d-aaaf-5d7a27bffb98",
   "metadata": {},
   "outputs": [
    {
     "name": "stdout",
     "output_type": "stream",
     "text": [
      "You are eligible to vote\n"
     ]
    }
   ],
   "source": [
    "age=18\n",
    "if age>=18:\n",
    "    print(\"You are eligible to vote\")"
   ]
  },
  {
   "cell_type": "code",
   "execution_count": 12,
   "id": "5b2e56da-1525-4ebd-977c-40c946b489a0",
   "metadata": {},
   "outputs": [],
   "source": [
    "age=17\n",
    "if age>=18:\n",
    "    print(\"You are eligible to vote\")"
   ]
  },
  {
   "cell_type": "code",
   "execution_count": 16,
   "id": "23044451-394e-4ef8-8b3d-11394be6af88",
   "metadata": {},
   "outputs": [
    {
     "name": "stdout",
     "output_type": "stream",
     "text": [
      "You are not eligible to vote\n"
     ]
    }
   ],
   "source": [
    "age=17\n",
    "if age<18:\n",
    "    print(\"You are not eligible to vote\")"
   ]
  },
  {
   "cell_type": "code",
   "execution_count": null,
   "id": "9134db30-72bf-4041-b594-9370501d539d",
   "metadata": {},
   "outputs": [
    {
     "name": "stdin",
     "output_type": "stream",
     "text": [
      "Enter a Name rahima\n"
     ]
    }
   ],
   "source": [
    "input(\"Enter a Name\")"
   ]
  },
  {
   "cell_type": "code",
   "execution_count": 2,
   "id": "12037001-8e81-4083-aa6b-80ea6ba2778e",
   "metadata": {},
   "outputs": [
    {
     "name": "stdin",
     "output_type": "stream",
     "text": [
      "Enter Your age 18\n"
     ]
    }
   ],
   "source": [
    "age=input(\"Enter Your age\")"
   ]
  },
  {
   "cell_type": "code",
   "execution_count": 3,
   "id": "63f02d38-9a85-4a26-af1a-284f041d2763",
   "metadata": {},
   "outputs": [
    {
     "data": {
      "text/plain": [
       "'18'"
      ]
     },
     "execution_count": 3,
     "metadata": {},
     "output_type": "execute_result"
    }
   ],
   "source": [
    "age"
   ]
  },
  {
   "cell_type": "code",
   "execution_count": 4,
   "id": "eada7ad2-33f3-49d9-aba5-d83cf03874cf",
   "metadata": {},
   "outputs": [
    {
     "data": {
      "text/plain": [
       "str"
      ]
     },
     "execution_count": 4,
     "metadata": {},
     "output_type": "execute_result"
    }
   ],
   "source": [
    "type(age)"
   ]
  },
  {
   "cell_type": "code",
   "execution_count": 6,
   "id": "8b2a84b5-a228-43e4-881e-03058dc32a3a",
   "metadata": {},
   "outputs": [
    {
     "name": "stdin",
     "output_type": "stream",
     "text": [
      "Enter Your age 18\n"
     ]
    }
   ],
   "source": [
    "# to avoid age in string format using type Casting\n",
    "age=int(input(\"Enter Your age\"))"
   ]
  },
  {
   "cell_type": "code",
   "execution_count": 7,
   "id": "0c737201-6200-4505-91af-0ab69ea7271a",
   "metadata": {},
   "outputs": [
    {
     "data": {
      "text/plain": [
       "18"
      ]
     },
     "execution_count": 7,
     "metadata": {},
     "output_type": "execute_result"
    }
   ],
   "source": [
    "age"
   ]
  },
  {
   "cell_type": "code",
   "execution_count": 9,
   "id": "d23ba7d9-7e67-4040-bab1-74fbc07fbafe",
   "metadata": {},
   "outputs": [
    {
     "data": {
      "text/plain": [
       "int"
      ]
     },
     "execution_count": 9,
     "metadata": {},
     "output_type": "execute_result"
    }
   ],
   "source": [
    "type(age)"
   ]
  },
  {
   "cell_type": "code",
   "execution_count": 10,
   "id": "4f290712-8f2c-41cd-8738-4111c1ea2be8",
   "metadata": {},
   "outputs": [
    {
     "name": "stdin",
     "output_type": "stream",
     "text": [
      "Enter a age 30\n"
     ]
    },
    {
     "name": "stdout",
     "output_type": "stream",
     "text": [
      "You are Young blood\n"
     ]
    }
   ],
   "source": [
    "# TASK \n",
    "age=int(input(\"Enter a age\"))\n",
    "if age>=18 and age<=45:\n",
    "    print(\"You are Young blood\")"
   ]
  },
  {
   "cell_type": "markdown",
   "id": "48506926-b40d-4ff9-9ffd-cd0827c758f4",
   "metadata": {},
   "source": [
    "### If Else Statement"
   ]
  },
  {
   "cell_type": "code",
   "execution_count": 12,
   "id": "939435d8-68f3-4faa-9ff3-872d593a680d",
   "metadata": {},
   "outputs": [
    {
     "name": "stdin",
     "output_type": "stream",
     "text": [
      "Enter a age 56\n"
     ]
    },
    {
     "name": "stdout",
     "output_type": "stream",
     "text": [
      "Thank You Will let You Know\n"
     ]
    }
   ],
   "source": [
    "age=int(input(\"Enter a age\"))\n",
    "if age>=18 and age<=45:\n",
    "    print(\"You are Young blood\")\n",
    "else:\n",
    "    print(\"Thank You Will let You Know\")"
   ]
  },
  {
   "cell_type": "code",
   "execution_count": 22,
   "id": "79ccfd0f-37a9-4198-b91b-7304a9594102",
   "metadata": {},
   "outputs": [
    {
     "name": "stdin",
     "output_type": "stream",
     "text": [
      "Enter A Product Price:  40000\n"
     ]
    },
    {
     "name": "stdout",
     "output_type": "stream",
     "text": [
      "The Product Price is 8000.0\n"
     ]
    }
   ],
   "source": [
    "#TASK 2\n",
    "product_price = int(input(\"Enter A Product Price: \"))  # Added colon after condition\n",
    "if product_price > 3000 :\n",
    "    print(\"The Product Price is\",format((20/100)*product_price))\n",
    "else :\n",
    "    print(\"The Product Price is\",format((30/100)*product_price))    "
   ]
  },
  {
   "cell_type": "markdown",
   "id": "d71a8dbc-7abf-4bcf-8d5d-5063dfdcc0c7",
   "metadata": {},
   "source": [
    "## IF Elif Statement"
   ]
  },
  {
   "cell_type": "code",
   "execution_count": 20,
   "id": "49ae3535-b56a-4947-a78c-ce01cbe6c983",
   "metadata": {},
   "outputs": [
    {
     "name": "stdin",
     "output_type": "stream",
     "text": [
      "Enter A Product Price:  4000\n"
     ]
    },
    {
     "name": "stdout",
     "output_type": "stream",
     "text": [
      "The Product Price is 3200.0\n"
     ]
    }
   ],
   "source": [
    "product_price = int(input(\"Enter A Product Price: \"))  # Added colon after condition\n",
    "if product_price > 3000:\n",
    "    print(\"The Product Price is\", format(product_price * 0.8))\n",
    "elif 2000 <= product_price <= 3000:\n",
    "    print(\"The Product Price is\", format(product_price * 0.7))\n",
    "else:\n",
    "    print(\"The Product Price is\", format(product_price * 0.6))\n",
    "        "
   ]
  },
  {
   "cell_type": "code",
   "execution_count": 25,
   "id": "5232edee-943e-4add-9fc0-4eb215527a13",
   "metadata": {},
   "outputs": [
    {
     "name": "stdin",
     "output_type": "stream",
     "text": [
      "Enter A Product Price:  10000\n"
     ]
    },
    {
     "name": "stdout",
     "output_type": "stream",
     "text": [
      "The Product Price is 8000.0\n"
     ]
    }
   ],
   "source": [
    "product_price = int(input(\"Enter A Product Price: \"))  # Added colon after condition\n",
    "if product_price > 3000:\n",
    "    print(\"The Product Price is\", format(product_price * 0.8))\n",
    "elif 2000 <= product_price <= 3000:\n",
    "    print(\"The Product Price is\", format(product_price * 0.7))\n",
    "else :\n",
    "     print(\"The Product Price is\", format(product_price * 0.6))"
   ]
  },
  {
   "cell_type": "code",
   "execution_count": 2,
   "id": "7a5a6004-a2d9-401e-bcfc-62b3bec1062c",
   "metadata": {},
   "outputs": [
    {
     "name": "stdin",
     "output_type": "stream",
     "text": [
      "Enter A Product Price:  4000\n"
     ]
    },
    {
     "name": "stdout",
     "output_type": "stream",
     "text": [
      "You Get A Goa Trip\n",
      "The Product Price is 3200.0\n"
     ]
    }
   ],
   "source": [
    "product_price = int(input(\"Enter A Product Price: \"))  # Added colon after condition\n",
    "if product_price > 3000:\n",
    "    if product_price==4000:\n",
    "        print(\"You Get A Goa Trip\")\n",
    "    print(\"The Product Price is\", format(product_price * 0.8))\n",
    "elif 2000 <= product_price <= 3000:\n",
    "    if product_price==2500:\n",
    "        print(\"You get an Additional Price\")\n",
    "    print(\"The Product Price is\", format(product_price * 0.7))\n",
    "else :\n",
    "     print(\"The Product Price is\", format(product_price * 0.6))"
   ]
  },
  {
   "cell_type": "markdown",
   "id": "fda36d06-7204-4372-8578-ebb46983729e",
   "metadata": {},
   "source": [
    "### Trying If-Elif Statements"
   ]
  },
  {
   "cell_type": "code",
   "execution_count": 9,
   "id": "01d41f79-7c57-46f5-8632-0975138df8ef",
   "metadata": {},
   "outputs": [
    {
     "name": "stdin",
     "output_type": "stream",
     "text": [
      "Enter a Subject Science\n"
     ]
    },
    {
     "name": "stdout",
     "output_type": "stream",
     "text": [
      "Its Science Class\n"
     ]
    }
   ],
   "source": [
    "Class=input(\"Enter a Subject\")\n",
    "if Class==\"History\":\n",
    "    print(\"Its History Class\")\n",
    "elif Class==\"Geography\":\n",
    "    print(\"Its Geographys Class\")\n",
    "elif Class==\"Science\":\n",
    "    print(\"Its Science Class\")\n",
    "else:\n",
    "    print(\"Its Maths Class\")      \n",
    "            "
   ]
  },
  {
   "cell_type": "code",
   "execution_count": 16,
   "id": "00e7fa7f-cd06-40ee-8086-4fea63823d0a",
   "metadata": {},
   "outputs": [],
   "source": [
    "#### OUTCOME: If one condition satisfies it will NOT further checks the below Conditions"
   ]
  },
  {
   "cell_type": "markdown",
   "id": "035932a3-6593-484e-832f-01717473f753",
   "metadata": {},
   "source": [
    "### Trying all if statements"
   ]
  },
  {
   "cell_type": "code",
   "execution_count": 13,
   "id": "d63a9930-d03a-4067-96fe-12adc50fe2af",
   "metadata": {},
   "outputs": [
    {
     "name": "stdin",
     "output_type": "stream",
     "text": [
      "Enter a Subject History\n"
     ]
    },
    {
     "name": "stdout",
     "output_type": "stream",
     "text": [
      "Its History Class\n",
      "Its Maths Class\n"
     ]
    }
   ],
   "source": [
    "Class=input(\"Enter a Subject\")\n",
    "if Class==\"History\":\n",
    "    print(\"Its History Class\")\n",
    "if Class==\"Geography\":\n",
    "    print(\"Its Geographys Class\")\n",
    "if Class==\"Science\":\n",
    "    print(\"Its Science Class\")\n",
    "else:\n",
    "    print(\"Its Maths Class\")      \n",
    "            "
   ]
  },
  {
   "cell_type": "markdown",
   "id": "550483bf-cc8e-42fc-b136-ecbe3ee33bd3",
   "metadata": {},
   "source": [
    "#### OUTCOME: If one condition satisfies it will further checks the below Conditions"
   ]
  },
  {
   "cell_type": "code",
   "execution_count": null,
   "id": "54e2c857-c0b9-48b5-ab3b-b54f713d1a6e",
   "metadata": {},
   "outputs": [],
   "source": []
  }
 ],
 "metadata": {
  "kernelspec": {
   "display_name": "Python 3 (ipykernel)",
   "language": "python",
   "name": "python3"
  },
  "language_info": {
   "codemirror_mode": {
    "name": "ipython",
    "version": 3
   },
   "file_extension": ".py",
   "mimetype": "text/x-python",
   "name": "python",
   "nbconvert_exporter": "python",
   "pygments_lexer": "ipython3",
   "version": "3.10.8"
  }
 },
 "nbformat": 4,
 "nbformat_minor": 5
}
